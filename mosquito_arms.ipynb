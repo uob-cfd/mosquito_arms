{
 "cells": [
  {
   "cell_type": "markdown",
   "metadata": {},
   "source": [
    "# Mosquito arms"
   ]
  },
  {
   "cell_type": "code",
   "execution_count": null,
   "metadata": {},
   "outputs": [],
   "source": [
    "# Don't change this cell; just run it.\n",
    "import numpy as np  # The array library.\n",
    "import pandas as pd\n",
    "# Safe setting for Pandas.\n",
    "pd.set_option('mode.chained_assignment', 'raise')\n",
    "\n",
    "import matplotlib.pyplot as plt\n",
    "%matplotlib inline\n",
    "\n",
    "# The OKpy testing system.\n",
    "from client.api.notebook import Notebook\n",
    "ok = Notebook('mosquito_arms.ok')"
   ]
  },
  {
   "cell_type": "markdown",
   "metadata": {},
   "source": [
    "We are sure you remember the [mosquito / beer study](https://matthew-brett.github.io/cfd2020/permutation/permutation_idea) with affection.\n",
    "\n",
    "As before, see [this\n",
    "page](https://github.com/matthew-brett/datasets/tree/master/mosquito_beer) for\n",
    "more details on the dataset.\n",
    "\n",
    "The paper describing the data is [Beer Consumption Increases Human\n",
    "Attractiveness to Malaria\n",
    "Mosquitoes](https://journals.plos.org/plosone/article?id=10.1371/journal.pone.0009546).\n",
    "\n",
    "Read in the data:"
   ]
  },
  {
   "cell_type": "code",
   "execution_count": null,
   "metadata": {},
   "outputs": [],
   "source": [
    "mosquitoes = pd.read_csv('mosquito_beer.csv')\n",
    "mosquitoes.head()"
   ]
  },
  {
   "cell_type": "markdown",
   "metadata": {},
   "source": [
    "## The experiment\n",
    "\n",
    "The authors studied whether people who had drunk beer were more attractive to\n",
    "mosquitoes.\n",
    "\n",
    "We didn't go into details in the textbook page, but in fact the experimental\n",
    "setup was a little more complicated than we described.\n",
    "\n",
    "Here is the graphic from the paper:\n",
    "\n",
    "![](experimental_setup.png)\n",
    "\n",
    "For each trial, there were two tents.\n",
    "\n",
    "* One tent was empty (the *control* tent).\n",
    "* The other tent contained a person (the *volunteer* tent).\n",
    "* A tube led from each tent to a corresponding *trap* box. Thus, there was a\n",
    "  *control trap* box and a *volunteer trap* box.\n",
    "* A tube from each trap box fed into an arm of a Y connector.\n",
    "* The remaining, third arm of the Y led to a *downwind box* containing 50\n",
    "  mosquitoes.\n",
    "* At the beginning of the trial, the experimenters opened the *downwind box*\n",
    "  of mosquitoes, so the mosquitoes could fly out into the Y connector, and\n",
    "  thence, into either of the *trap* boxes.\n",
    "* The number of mosquitoes who flew into the *control trap* box gives the\n",
    "  values for the `no_odour` column.\n",
    "* The number of mosquitoes who flew into the *volunteer trap* box gives the\n",
    "  values for the `volunt_odour` column.\n",
    "* The total number of mosquitoes who flew into either the trap box gives\n",
    "  the values for the `activated` column.\n",
    "\n",
    "Each volunteer had two trials, one *before* they drank their allocated drink,\n",
    "and one *after* they drank their allocated drink.  The `test` columns records\n",
    "the trial type of each row.  The study allocated 25 volunteers to drink beer,\n",
    "and 18 volunteers to drink water.  The `group` column contains the allocation\n",
    "of the corresponding volunteer on each trial."
   ]
  },
  {
   "cell_type": "markdown",
   "metadata": {},
   "source": [
    "## A check\n",
    "\n",
    "From what we have said above, you might assume that the mosquitoes who left\n",
    "their box (`activated` number) would always equal the number of who flew to\n",
    "the `no_odour` arm plus the number who flew to the `volunt_odour` arm.\n",
    "\n",
    "Check this by adding the values in `no_odour` to those in `volunt_odour`, then\n",
    "comparing them for equality, to the `activated` numbers.  Finally count the\n",
    "number of values where you got True for this comparison.  It should be the\n",
    "same as the number of rows in the data frame - if this relationship holds for\n",
    "all rows."
   ]
  },
  {
   "cell_type": "code",
   "execution_count": null,
   "metadata": {},
   "outputs": [],
   "source": [
    "n_same = ...\n",
    "# Show the result\n",
    "n_same"
   ]
  },
  {
   "cell_type": "code",
   "execution_count": null,
   "metadata": {},
   "outputs": [],
   "source": [
    "_ = ok.grade('q_n_same')"
   ]
  },
  {
   "cell_type": "markdown",
   "metadata": {},
   "source": [
    "## Another test for beer\n",
    "\n",
    "A comparison of interest to the authors was the difference between the number\n",
    "of mosquitoes that flew towards the volunteer and the number that flew towards\n",
    "the empty tent.\n",
    "\n",
    "In the next cell, first select the rows corresponding to the trials for\n",
    "volunteers after they had had their allocated drink.  Make a copy of the resulting data frame to make sure you don't modify the original.\n",
    "\n",
    "Next make a new column in the copied data frame, called `volunt_diff` that has\n",
    "the subtraction of the numbers in `no_odour` from those in `volunt_odour`."
   ]
  },
  {
   "cell_type": "code",
   "execution_count": null,
   "metadata": {},
   "outputs": [],
   "source": [
    "afters = ...\n",
    "afters..."
   ]
  },
  {
   "cell_type": "code",
   "execution_count": null,
   "metadata": {},
   "outputs": [],
   "source": [
    "_ = ok.grade('q_afters')"
   ]
  },
  {
   "cell_type": "markdown",
   "metadata": {},
   "source": [
    "Make an array from the `volunt_diff` values for the rows corresponding to the\n",
    "`beer` drinkers and another for the rows corresponding to the water drinkers.\n",
    "Call these `after_beer_vd` and `after_water_vd` respectively."
   ]
  },
  {
   "cell_type": "code",
   "execution_count": null,
   "metadata": {},
   "outputs": [],
   "source": [
    "after_beer_vd = ...\n",
    "after_water_vd = ...\n",
    "# Show the results\n",
    "print(after_beer_vd)\n",
    "print(after_water_vd)"
   ]
  },
  {
   "cell_type": "code",
   "execution_count": null,
   "metadata": {},
   "outputs": [],
   "source": [
    "_ = ok.grade('q_after_arrs')"
   ]
  },
  {
   "cell_type": "markdown",
   "metadata": {},
   "source": [
    "Consider the mean difference between the differences:"
   ]
  },
  {
   "cell_type": "code",
   "execution_count": null,
   "metadata": {},
   "outputs": [],
   "source": [
    "beer_mean = np.mean(after_beer_vd)\n",
    "water_mean = np.mean(after_water_vd)\n",
    "beer_water_diff = beer_mean - water_mean\n",
    "beer_water_diff"
   ]
  },
  {
   "cell_type": "markdown",
   "metadata": {},
   "source": [
    "The number of beer values:"
   ]
  },
  {
   "cell_type": "code",
   "execution_count": null,
   "metadata": {},
   "outputs": [],
   "source": [
    "n_beer = len(after_beer_vd)\n",
    "n_beer"
   ]
  },
  {
   "cell_type": "markdown",
   "metadata": {},
   "source": [
    "The values, pooled into one array:"
   ]
  },
  {
   "cell_type": "code",
   "execution_count": null,
   "metadata": {},
   "outputs": [],
   "source": [
    "# The values, pooled.\n",
    "pooled = np.append(after_beer_vd, after_water_vd)\n",
    "pooled"
   ]
  },
  {
   "cell_type": "markdown",
   "metadata": {},
   "source": [
    "Your job is to do a *permutation* test, to see whether this observed mean\n",
    "difference is plausible in an ideal (null) world, where there is no real\n",
    "difference between the groups, and any observed difference is just due to\n",
    "random sampling.\n",
    "\n",
    "We simulate samples from such an ideal world by shuffling the 16 values\n",
    "randomly, allocating 25 shuffled values to a fake Beer group, and the rest to \n",
    "fake Water group, and calculating the mean difference for these fake groups.\n",
    "We do this many times to build up the *sampling distribution* of these fake\n",
    "differences.\n",
    "\n",
    "To do this job, you may want to remind yourself of the [permutation idea](https://matthew-brett.github.io/cfd2020/permutation/permutation_idea.html) notebook in the textbook.\n",
    "\n",
    "You may well want to start with a cell that does one trial where you:\n",
    "\n",
    "* shuffle the pooled values.\n",
    "* split them into two groups of 25 and 18.\n",
    "* calculate the difference in means."
   ]
  },
  {
   "cell_type": "code",
   "execution_count": null,
   "metadata": {},
   "outputs": [],
   "source": [
    "#- You may want to simulate a single trial here."
   ]
  },
  {
   "cell_type": "markdown",
   "metadata": {},
   "source": [
    "Then finish up the cell below to build your sampling distribution, storing the values in the array `fake_diffs`."
   ]
  },
  {
   "cell_type": "code",
   "execution_count": null,
   "metadata": {},
   "outputs": [],
   "source": [
    "# Build up the sampling distribution from the ideal (null) world.\n",
    "n_iters = 10000\n",
    "fake_diffs = ...\n",
    "# Show the first 10 values.\n",
    "fake_diffs[:10]"
   ]
  },
  {
   "cell_type": "code",
   "execution_count": null,
   "metadata": {},
   "outputs": [],
   "source": [
    "_ = ok.grade('q_fake_diffs')"
   ]
  },
  {
   "cell_type": "markdown",
   "metadata": {},
   "source": [
    "You might also like to review the histogram of these values, to compare by eye to the value in the real world, `beer_water_diff`."
   ]
  },
  {
   "cell_type": "code",
   "execution_count": null,
   "metadata": {},
   "outputs": [],
   "source": [
    "#- Do a histogram of the sampling distribution here."
   ]
  },
  {
   "cell_type": "markdown",
   "metadata": {},
   "source": [
    "Calculate the proportion of the sampling distribution values that are greater than or equal to the observed difference in means."
   ]
  },
  {
   "cell_type": "code",
   "execution_count": null,
   "metadata": {},
   "outputs": [],
   "source": [
    "prop_ge = ...\n",
    "# Show the proportion.\n",
    "prop_ge"
   ]
  },
  {
   "cell_type": "code",
   "execution_count": null,
   "metadata": {},
   "outputs": [],
   "source": [
    "_ = ok.grade('q_prop_ge')"
   ]
  },
  {
   "cell_type": "markdown",
   "metadata": {},
   "source": [
    "## Done.\n",
    "\n",
    "Congratulations, you're done with the assignment!  Be sure to:\n",
    "\n",
    "- **run all the tests** (the next cell has a shortcut for that).\n",
    "- **Save and Checkpoint** from the `File` menu."
   ]
  },
  {
   "cell_type": "code",
   "execution_count": null,
   "metadata": {},
   "outputs": [],
   "source": [
    "# For your convenience, you can run this cell to run all the tests at once!\n",
    "import os\n",
    "_ = [ok.grade(q[:-3]) for q in os.listdir(\"tests\") if q.startswith('q')]"
   ]
  }
 ],
 "metadata": {
  "jupytext": {
   "notebook_metadata_filter": "all,-language_info",
   "split_at_heading": true,
   "text_representation": {
    "extension": ".Rmd",
    "format_name": "rmarkdown",
    "format_version": "1.1",
    "jupytext_version": "1.2.4"
   }
  },
  "kernelspec": {
   "display_name": "Python 3",
   "language": "python",
   "name": "python3"
  }
 },
 "nbformat": 4,
 "nbformat_minor": 4
}
